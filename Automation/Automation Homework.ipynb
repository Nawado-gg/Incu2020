{
 "cells": [
  {
   "cell_type": "code",
   "execution_count": 8,
   "metadata": {},
   "outputs": [
    {
     "name": "stdout",
     "output_type": "stream",
     "text": [
      "Connected\n"
     ]
    },
    {
     "data": {
      "text/plain": [
       "'Nexus9000v'"
      ]
     },
     "execution_count": 8,
     "metadata": {},
     "output_type": "execute_result"
    }
   ],
   "source": [
    "from netmiko import ConnectHandler\n",
    "\n",
    "def conn():\n",
    "    try:\n",
    "        device_connection = ConnectHandler(device_type = 'cisco_nxos', ip = '127.0.0.1',\n",
    "            port = '2222', username = 'admin', password = 'cisco!123')\n",
    "        print(\"Connected\")\n",
    "    except:\n",
    "        print(\"Failure\")\n",
    "    return device_connection.send_command(\"show hostname\").split()[0]\n",
    "    \n",
    "conn()"
   ]
  },
  {
   "cell_type": "code",
   "execution_count": 9,
   "metadata": {},
   "outputs": [
    {
     "data": {
      "text/plain": [
       "'Nexus9000v'"
      ]
     },
     "execution_count": 9,
     "metadata": {},
     "output_type": "execute_result"
    }
   ],
   "source": [
    "import ncclient\n",
    "from ncclient import manager\n",
    "import xml.dom.minidom\n",
    "\n",
    "def conn_ncclient():\n",
    "    try:\n",
    "        device_connection = manager.connect(host = '127.0.0.1', port = 2222,\n",
    "            username='admin', password='cisco!123',\n",
    "            hostkey_verify=False, device_params={'name': 'nexus'})\n",
    "        return device_connection\n",
    "    except:\n",
    "        print(\"Failure\")\n",
    "\n",
    "def show_name():\n",
    "    conn = conn_ncclient()\n",
    "    hostname = '''\n",
    "                <show xmlns=\"http://www.cisco.com/nxos:1.0\">\n",
    "                    <hostname>\n",
    "                    </hostname>\n",
    "                </show>\n",
    "               '''\n",
    "\n",
    "    output = conn.get(('subtree', hostname))\n",
    "    xml_doc = xml.dom.minidom.parseString(output.xml)\n",
    "    name = xml_doc.getElementsByTagName(\"mod:hostname\")\n",
    "    host = name[0].firstChild.nodeValue\n",
    "\n",
    "    return host\n",
    "    \n",
    "show_name()"
   ]
  },
  {
   "cell_type": "code",
   "execution_count": null,
   "metadata": {},
   "outputs": [],
   "source": []
  }
 ],
 "metadata": {
  "kernelspec": {
   "display_name": "Python 3",
   "language": "python",
   "name": "python3"
  },
  "language_info": {
   "codemirror_mode": {
    "name": "ipython",
    "version": 3
   },
   "file_extension": ".py",
   "mimetype": "text/x-python",
   "name": "python",
   "nbconvert_exporter": "python",
   "pygments_lexer": "ipython3",
   "version": "3.6.9"
  }
 },
 "nbformat": 4,
 "nbformat_minor": 2
}
